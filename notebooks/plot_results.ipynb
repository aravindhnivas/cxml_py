{
 "cells": [
  {
   "cell_type": "code",
   "execution_count": 26,
   "metadata": {},
   "outputs": [],
   "source": [
    "import pandas as pd\n",
    "import numpy as np\n",
    "import matplotlib.pyplot as plt\n",
    "from pathlib import Path as pt\n",
    "from loguru import logger\n",
    "from typing import TypedDict, Literal, Optional, List, Dict, Union\n",
    "import json"
   ]
  },
  {
   "cell_type": "code",
   "execution_count": 13,
   "metadata": {},
   "outputs": [
    {
     "name": "stdout",
     "output_type": "stream",
     "text": [
      "resultsfile exists: True\n",
      "datfile exists: True\n"
     ]
    }
   ],
   "source": [
    "root_loc = pt('/Users/aravindhnivas/Library/CloudStorage/OneDrive-MassachusettsInstituteofTechnology/')\n",
    "base_loc = root_loc / 'ML properties/Analysed/[PHYSICAL CONSTANTS OF ORGANIC COMPOUNDS]/'\n",
    "\n",
    "model = 'lgbm'\n",
    "embeddings = 'mol2vec_embeddings'\n",
    "method = 'Optuna'\n",
    "pre_trained_filename = f'{model}_{embeddings}_pretrained_model_{method}'\n",
    "loc = base_loc / f'tmp_C_processed_data/analysis_data/filtered/tmpC_topelements_processed_data/pretrained_models/{model}/{embeddings}/{method}/'\n",
    "\n",
    "resultsfile = loc / f'{pre_trained_filename}.results.json'\n",
    "datfile = loc / f'{pre_trained_filename}.dat.json'\n",
    "\n",
    "print(f'resultsfile exists: {resultsfile.exists()}')\n",
    "print(f'datfile exists: {datfile.exists()}')"
   ]
  },
  {
   "cell_type": "code",
   "execution_count": 27,
   "metadata": {},
   "outputs": [],
   "source": [
    "# Define the structure of the inner dictionaries\n",
    "class DataEntry(TypedDict):\n",
    "    y_true: List[float]\n",
    "    y_pred: List[float]\n",
    "    y_linear_fit: List[float]\n",
    "    \n",
    "class DataType(TypedDict):\n",
    "    test: DataEntry\n",
    "    train: DataEntry\n",
    "\n",
    "\n",
    "# Define the Embedding type\n",
    "Embedding = Literal['mol2vec', 'VICGAE']\n",
    "\n",
    "# Define the MLStats TypedDict\n",
    "class MLStats(TypedDict):\n",
    "    r2: float\n",
    "    mse: float\n",
    "    rmse: float\n",
    "    mae: float\n",
    "\n",
    "# Define the CVScores TypedDict\n",
    "class CVScores(TypedDict):\n",
    "    mean: float\n",
    "    std: float\n",
    "    ci_lower: float\n",
    "    ci_upper: float\n",
    "    scores: List[float]\n",
    "\n",
    "# Define the CV_scoring_methods type\n",
    "CV_scoring_methods = Literal['r2', 'mse', 'rmse', 'mae']\n",
    "\n",
    "# Define the LearningCurveData type\n",
    "LearningCurveData = Dict[str, Dict[Literal['test', 'train'], CVScores]]\n",
    "\n",
    "# Define the CVScoresData type\n",
    "CVScoresData = Dict[Literal['test', 'train'], Dict[CV_scoring_methods, CVScores]]\n",
    "\n",
    "# Define the PlotData and Layout TypedDicts (assuming simplified structures)\n",
    "class PlotData(TypedDict, total=False):\n",
    "    x: List[float]\n",
    "    y: List[float]\n",
    "    type: str\n",
    "    name: str\n",
    "\n",
    "class Layout(TypedDict, total=False):\n",
    "    title: str\n",
    "    xaxis: Dict[str, Union[str, int, float]]\n",
    "    yaxis: Dict[str, Union[str, int, float]]\n",
    "\n",
    "# Define the MLResults TypedDict\n",
    "class MLResults(TypedDict):\n",
    "    learning_curve_plotly_data: Optional[Dict[str, Union[List[PlotData], Layout]]]\n",
    "    embedding: Embedding\n",
    "    PCA: bool\n",
    "    data_shapes: Dict[str, List[int]]\n",
    "    train_stats: MLStats\n",
    "    test_stats: MLStats\n",
    "    model: str\n",
    "    bootstrap: bool\n",
    "    bootstrap_nsamples: Optional[int]\n",
    "    cross_validation: bool\n",
    "    cv_fold: Optional[int]\n",
    "    cv_scores: Optional[CVScoresData]\n",
    "    best_params: Optional[Dict[str, Union[str, int, bool, None]]]\n",
    "    best_score: Optional[float]\n",
    "    timestamp: str\n",
    "    time: str\n",
    "    "
   ]
  },
  {
   "cell_type": "code",
   "execution_count": 28,
   "metadata": {},
   "outputs": [],
   "source": [
    "results: MLResults = json.load(open(resultsfile, 'r'))\n",
    "data: DataType = json.load(open(datfile, 'r'))"
   ]
  },
  {
   "cell_type": "code",
   "execution_count": 32,
   "metadata": {},
   "outputs": [
    {
     "data": {
      "text/plain": [
       "['data_shapes',\n",
       " 'test_stats',\n",
       " 'train_stats',\n",
       " 'bootstrap',\n",
       " 'cross_validation',\n",
       " 'cv_fold',\n",
       " 'cv_scores',\n",
       " 'best_params',\n",
       " 'timestamp',\n",
       " 'time']"
      ]
     },
     "execution_count": 32,
     "metadata": {},
     "output_type": "execute_result"
    }
   ],
   "source": [
    "results"
   ]
  },
  {
   "cell_type": "code",
   "execution_count": null,
   "metadata": {},
   "outputs": [],
   "source": []
  },
  {
   "cell_type": "code",
   "execution_count": null,
   "metadata": {},
   "outputs": [],
   "source": []
  }
 ],
 "metadata": {
  "kernelspec": {
   "display_name": ".venv",
   "language": "python",
   "name": "python3"
  },
  "language_info": {
   "codemirror_mode": {
    "name": "ipython",
    "version": 3
   },
   "file_extension": ".py",
   "mimetype": "text/x-python",
   "name": "python",
   "nbconvert_exporter": "python",
   "pygments_lexer": "ipython3",
   "version": "3.12.5"
  }
 },
 "nbformat": 4,
 "nbformat_minor": 2
}
