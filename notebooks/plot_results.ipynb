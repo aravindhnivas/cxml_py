{
 "cells": [
  {
   "cell_type": "code",
   "execution_count": 14,
   "metadata": {},
   "outputs": [],
   "source": [
    "import pandas as pd\n",
    "import numpy as np\n",
    "import matplotlib.pyplot as plt\n",
    "from pathlib import Path as pt\n",
    "from loguru import logger\n",
    "from typing import Any\n",
    "import json"
   ]
  },
  {
   "cell_type": "code",
   "execution_count": 13,
   "metadata": {},
   "outputs": [
    {
     "name": "stdout",
     "output_type": "stream",
     "text": [
      "resultsfile exists: True\n",
      "datfile exists: True\n"
     ]
    }
   ],
   "source": [
    "root_loc = pt('/Users/aravindhnivas/Library/CloudStorage/OneDrive-MassachusettsInstituteofTechnology/')\n",
    "base_loc = root_loc / 'ML properties/Analysed/[PHYSICAL CONSTANTS OF ORGANIC COMPOUNDS]/'\n",
    "\n",
    "model = 'lgbm'\n",
    "embeddings = 'mol2vec_embeddings'\n",
    "method = 'Optuna'\n",
    "pre_trained_filename = f'{model}_{embeddings}_pretrained_model_{method}'\n",
    "loc = base_loc / f'tmp_C_processed_data/analysis_data/filtered/tmpC_topelements_processed_data/pretrained_models/{model}/{embeddings}/{method}/'\n",
    "\n",
    "resultsfile = loc / f'{pre_trained_filename}.results.json'\n",
    "datfile = loc / f'{pre_trained_filename}.dat.json'\n",
    "\n",
    "print(f'resultsfile exists: {resultsfile.exists()}')\n",
    "print(f'datfile exists: {datfile.exists()}')"
   ]
  },
  {
   "cell_type": "code",
   "execution_count": 15,
   "metadata": {},
   "outputs": [
    {
     "data": {
      "text/plain": [
       "(dict_keys(['data_shapes', 'test_stats', 'train_stats', 'bootstrap', 'cross_validation', 'cv_fold', 'cv_scores', 'best_params', 'timestamp', 'time']),\n",
       " dict_keys(['test', 'train']))"
      ]
     },
     "execution_count": 15,
     "metadata": {},
     "output_type": "execute_result"
    }
   ],
   "source": [
    "results = json.load(open(resultsfile, 'r'))\n",
    "dat = json.load(open(datfile, 'r'))\n",
    "results.keys(), dat.keys()"
   ]
  }
 ],
 "metadata": {
  "kernelspec": {
   "display_name": ".venv",
   "language": "python",
   "name": "python3"
  },
  "language_info": {
   "codemirror_mode": {
    "name": "ipython",
    "version": 3
   },
   "file_extension": ".py",
   "mimetype": "text/x-python",
   "name": "python",
   "nbconvert_exporter": "python",
   "pygments_lexer": "ipython3",
   "version": "3.12.5"
  }
 },
 "nbformat": 4,
 "nbformat_minor": 2
}
