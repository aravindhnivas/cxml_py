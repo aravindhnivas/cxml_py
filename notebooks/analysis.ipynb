{
 "cells": [
  {
   "cell_type": "code",
   "execution_count": 3,
   "metadata": {},
   "outputs": [],
   "source": [
    "from pathlib import Path as pt\n",
    "import pandas as pd\n",
    "import scipy.stats as stats\n",
    "import sigfig\n",
    "import json\n",
    "import numpy as np"
   ]
  },
  {
   "cell_type": "code",
   "execution_count": 1,
   "metadata": {},
   "outputs": [
    {
     "data": {
      "text/plain": [
       "(PosixPath('/Users/aravindhnivas/Library/CloudStorage/OneDrive-MassachusettsInstituteofTechnology/ML-properties'),\n",
       " ['tmpC_topelements_processed_data',\n",
       "  'tbp_topelements_processed_data',\n",
       "  'vp_kPa_25C_topelements_processed_data',\n",
       "  'Pc_MPa_processed_data',\n",
       "  'Tc_K_processed_data'],\n",
       " 'plots',\n",
       " ['MP', 'BP', 'VP', 'CP', 'CT'],\n",
       " [7476, 4915, 398, 777, 819],\n",
       " ['gbr', 'catboost', 'xgboost', 'lgbm'],\n",
       " ['GBR', 'CatBoost', 'XGBoost', 'LGBM'],\n",
       " ['mol2vec_embeddings', 'VICGAE_embeddings'])"
      ]
     },
     "execution_count": 1,
     "metadata": {},
     "output_type": "execute_result"
    }
   ],
   "source": [
    "from load_data import processed_data_dirs, plots_dir, titles, total_counts, models, models_labels, embeddings_dirname\n",
    "plots_dir.parent, [d.name for d in processed_data_dirs], plots_dir.name, titles, total_counts, models, models_labels, embeddings_dirname"
   ]
  },
  {
   "cell_type": "markdown",
   "metadata": {},
   "source": [
    "### Data shape pre- and post-processing"
   ]
  },
  {
   "cell_type": "code",
   "execution_count": 4,
   "metadata": {},
   "outputs": [
    {
     "name": "stdout",
     "output_type": "stream",
     "text": [
      "{\n",
      "    \"tmpC_topelements_processed_data\": {\n",
      "        \"mol2vec_embeddings\": {\n",
      "            \"original_X_shape\": 7476,\n",
      "            \"validated_X_shape\": 7476,\n",
      "            \"original_y_index\": 7476,\n",
      "            \"final_y_index\": 7476,\n",
      "            \"final_X_shape\": 7476,\n",
      "            \"cleaned_X_shape\": 5980,\n",
      "            \"cleaned_y_shape\": 5980\n",
      "        },\n",
      "        \"VICGAE_embeddings\": {\n",
      "            \"original_X_shape\": 7476,\n",
      "            \"validated_X_shape\": 7200,\n",
      "            \"original_y_index\": 7476,\n",
      "            \"final_y_index\": 7200,\n",
      "            \"final_X_shape\": 7200,\n",
      "            \"cleaned_X_shape\": 5940,\n",
      "            \"cleaned_y_shape\": 5940\n",
      "        }\n",
      "    },\n",
      "    \"tbp_topelements_processed_data\": {\n",
      "        \"mol2vec_embeddings\": {\n",
      "            \"original_X_shape\": 4915,\n",
      "            \"validated_X_shape\": 4915,\n",
      "            \"original_y_index\": 4915,\n",
      "            \"final_y_index\": 4915,\n",
      "            \"final_X_shape\": 4915,\n",
      "            \"cleaned_X_shape\": 4865,\n",
      "            \"cleaned_y_shape\": 4865\n",
      "        },\n",
      "        \"VICGAE_embeddings\": {\n",
      "            \"original_X_shape\": 4915,\n",
      "            \"validated_X_shape\": 4909,\n",
      "            \"original_y_index\": 4915,\n",
      "            \"final_y_index\": 4909,\n",
      "            \"final_X_shape\": 4909,\n",
      "            \"cleaned_X_shape\": 4295,\n",
      "            \"cleaned_y_shape\": 4295\n",
      "        }\n",
      "    },\n",
      "    \"vp_kPa_25C_topelements_processed_data\": {\n",
      "        \"mol2vec_embeddings\": {\n",
      "            \"original_X_shape\": 398,\n",
      "            \"validated_X_shape\": 398,\n",
      "            \"original_y_index\": 398,\n",
      "            \"final_y_index\": 398,\n",
      "            \"final_X_shape\": 398,\n",
      "            \"cleaned_X_shape\": 348,\n",
      "            \"cleaned_y_shape\": 348\n",
      "        },\n",
      "        \"VICGAE_embeddings\": {\n",
      "            \"original_X_shape\": 398,\n",
      "            \"validated_X_shape\": 398,\n",
      "            \"original_y_index\": 398,\n",
      "            \"final_y_index\": 398,\n",
      "            \"final_X_shape\": 398,\n",
      "            \"cleaned_X_shape\": 338,\n",
      "            \"cleaned_y_shape\": 338\n",
      "        }\n",
      "    },\n",
      "    \"Pc_MPa_processed_data\": {\n",
      "        \"mol2vec_embeddings\": {\n",
      "            \"original_X_shape\": 777,\n",
      "            \"validated_X_shape\": 777,\n",
      "            \"original_y_index\": 777,\n",
      "            \"final_y_index\": 777,\n",
      "            \"final_X_shape\": 777,\n",
      "            \"cleaned_X_shape\": 769,\n",
      "            \"cleaned_y_shape\": 769\n",
      "        },\n",
      "        \"VICGAE_embeddings\": {\n",
      "            \"original_X_shape\": 777,\n",
      "            \"validated_X_shape\": 776,\n",
      "            \"original_y_index\": 777,\n",
      "            \"final_y_index\": 776,\n",
      "            \"final_X_shape\": 776,\n",
      "            \"cleaned_X_shape\": 727,\n",
      "            \"cleaned_y_shape\": 727\n",
      "        }\n",
      "    },\n",
      "    \"Tc_K_processed_data\": {\n",
      "        \"mol2vec_embeddings\": {\n",
      "            \"original_X_shape\": 819,\n",
      "            \"validated_X_shape\": 819,\n",
      "            \"original_y_index\": 819,\n",
      "            \"final_y_index\": 819,\n",
      "            \"final_X_shape\": 819,\n",
      "            \"cleaned_X_shape\": 802,\n",
      "            \"cleaned_y_shape\": 802\n",
      "        },\n",
      "        \"VICGAE_embeddings\": {\n",
      "            \"original_X_shape\": 819,\n",
      "            \"validated_X_shape\": 818,\n",
      "            \"original_y_index\": 819,\n",
      "            \"final_y_index\": 818,\n",
      "            \"final_X_shape\": 818,\n",
      "            \"cleaned_X_shape\": 818,\n",
      "            \"cleaned_y_shape\": 818\n",
      "        }\n",
      "    }\n",
      "}\n"
     ]
    }
   ],
   "source": [
    "metadata = {}\n",
    "for dirs in processed_data_dirs:\n",
    "    metadata[dirs.name] = {}\n",
    "    embedded_vectors_dir = dirs / 'embedded_vectors'\n",
    "    for embedding in embeddings_dirname:\n",
    "        metadata[dirs.name][embedding] = {}\n",
    "        metadata_file = embedded_vectors_dir / f'processed_{embedding}' / 'metadata.json'\n",
    "        with open(metadata_file, 'r') as f:\n",
    "            metadata[dirs.name][embedding] = json.load(f)\n",
    "\n",
    "print(json.dumps(metadata, indent=4))"
   ]
  },
  {
   "cell_type": "code",
   "execution_count": null,
   "metadata": {},
   "outputs": [],
   "source": []
  }
 ],
 "metadata": {
  "kernelspec": {
   "display_name": ".venv",
   "language": "python",
   "name": "python3"
  },
  "language_info": {
   "codemirror_mode": {
    "name": "ipython",
    "version": 3
   },
   "file_extension": ".py",
   "mimetype": "text/x-python",
   "name": "python",
   "nbconvert_exporter": "python",
   "pygments_lexer": "ipython3",
   "version": "3.12.5"
  }
 },
 "nbformat": 4,
 "nbformat_minor": 2
}
