{
 "cells": [
  {
   "cell_type": "code",
   "execution_count": 1,
   "metadata": {},
   "outputs": [],
   "source": [
    "import pandas as pd\n",
    "import numpy as np"
   ]
  },
  {
   "cell_type": "code",
   "execution_count": 46,
   "metadata": {},
   "outputs": [
    {
     "name": "stdout",
     "output_type": "stream",
     "text": [
      "(7476, 32)\n"
     ]
    },
    {
     "data": {
      "text/html": [
       "<div>\n",
       "<style scoped>\n",
       "    .dataframe tbody tr th:only-of-type {\n",
       "        vertical-align: middle;\n",
       "    }\n",
       "\n",
       "    .dataframe tbody tr th {\n",
       "        vertical-align: top;\n",
       "    }\n",
       "\n",
       "    .dataframe thead th {\n",
       "        text-align: right;\n",
       "    }\n",
       "</style>\n",
       "<table border=\"1\" class=\"dataframe\">\n",
       "  <thead>\n",
       "    <tr style=\"text-align: right;\">\n",
       "      <th></th>\n",
       "      <th>CRC Index</th>\n",
       "      <th>SMILES</th>\n",
       "      <th>tmp/ºC</th>\n",
       "      <th>Processed tmp/ºC</th>\n",
       "    </tr>\n",
       "    <tr>\n",
       "      <th>INDEX</th>\n",
       "      <th></th>\n",
       "      <th></th>\n",
       "      <th></th>\n",
       "      <th></th>\n",
       "    </tr>\n",
       "  </thead>\n",
       "  <tbody>\n",
       "    <tr>\n",
       "      <th>7625</th>\n",
       "      <td>10871</td>\n",
       "      <td>O=C=Nc1ccc(-c2ccccc2)cc1</td>\n",
       "      <td>56</td>\n",
       "      <td>56.0</td>\n",
       "    </tr>\n",
       "    <tr>\n",
       "      <th>7626</th>\n",
       "      <td>10872</td>\n",
       "      <td>Cc1cccc(OCC(O)CNC(C)(C)C)c1C</td>\n",
       "      <td>57</td>\n",
       "      <td>57.0</td>\n",
       "    </tr>\n",
       "    <tr>\n",
       "      <th>7627</th>\n",
       "      <td>10876</td>\n",
       "      <td>Cc1cccc(O)c1C</td>\n",
       "      <td>72.7(3)</td>\n",
       "      <td>72.7</td>\n",
       "    </tr>\n",
       "    <tr>\n",
       "      <th>7628</th>\n",
       "      <td>10877</td>\n",
       "      <td>Cc1ccc(O)c(C)c1</td>\n",
       "      <td>25(1)</td>\n",
       "      <td>25.0</td>\n",
       "    </tr>\n",
       "    <tr>\n",
       "      <th>7629</th>\n",
       "      <td>10878</td>\n",
       "      <td>Cc1ccc(C)c(O)c1</td>\n",
       "      <td>74.9(2)</td>\n",
       "      <td>74.9</td>\n",
       "    </tr>\n",
       "    <tr>\n",
       "      <th>7630</th>\n",
       "      <td>10879</td>\n",
       "      <td>Cc1cccc(C)c1O</td>\n",
       "      <td>45.4(4)</td>\n",
       "      <td>45.4</td>\n",
       "    </tr>\n",
       "    <tr>\n",
       "      <th>7631</th>\n",
       "      <td>10880</td>\n",
       "      <td>Cc1ccc(O)cc1C</td>\n",
       "      <td>65.1(2)</td>\n",
       "      <td>65.1</td>\n",
       "    </tr>\n",
       "    <tr>\n",
       "      <th>7632</th>\n",
       "      <td>10881</td>\n",
       "      <td>Cc1cc(C)cc(O)c1</td>\n",
       "      <td>63.4(3)</td>\n",
       "      <td>63.4</td>\n",
       "    </tr>\n",
       "    <tr>\n",
       "      <th>7633</th>\n",
       "      <td>10882</td>\n",
       "      <td>Cc1cc(C2(c3cc(C)c(O)c(CN(CC(=O)O)CC(=O)O)c3)OS...</td>\n",
       "      <td>286 dec</td>\n",
       "      <td>286.0</td>\n",
       "    </tr>\n",
       "    <tr>\n",
       "      <th>7634</th>\n",
       "      <td>10884</td>\n",
       "      <td>OC1O[C@H](CO[C@@H]2OC[C@@H](O)[C@H](O)[C@H]2O)...</td>\n",
       "      <td>210</td>\n",
       "      <td>210.0</td>\n",
       "    </tr>\n",
       "    <tr>\n",
       "      <th>7635</th>\n",
       "      <td>10888</td>\n",
       "      <td>CNC(=O)Oc1cc(C)cc(C)c1</td>\n",
       "      <td>99</td>\n",
       "      <td>99.0</td>\n",
       "    </tr>\n",
       "    <tr>\n",
       "      <th>7636</th>\n",
       "      <td>10889</td>\n",
       "      <td>COC(=O)C1C(O)CCC2CN3CCc4c([nH]c5ccccc45)C3CC21</td>\n",
       "      <td>241</td>\n",
       "      <td>241.0</td>\n",
       "    </tr>\n",
       "    <tr>\n",
       "      <th>7637</th>\n",
       "      <td>10890</td>\n",
       "      <td>COC(=O)C1C(O)CCC2CN3CCc4c([nH]c5ccccc45)C3CC21.Cl</td>\n",
       "      <td>302</td>\n",
       "      <td>302.0</td>\n",
       "    </tr>\n",
       "    <tr>\n",
       "      <th>7638</th>\n",
       "      <td>10891</td>\n",
       "      <td>CC1CCCC(=O)CCCC=Cc2cc(O)cc(O)c2C(=O)O1</td>\n",
       "      <td>164</td>\n",
       "      <td>164.0</td>\n",
       "    </tr>\n",
       "    <tr>\n",
       "      <th>7639</th>\n",
       "      <td>10892</td>\n",
       "      <td>Cc1cn(C2CC(N=[N+]=[N-])C(CO)O2)c(=O)[nH]c1=O</td>\n",
       "      <td>121</td>\n",
       "      <td>121.0</td>\n",
       "    </tr>\n",
       "  </tbody>\n",
       "</table>\n",
       "</div>"
      ],
      "text/plain": [
       "       CRC Index                                             SMILES   tmp/ºC  \\\n",
       "INDEX                                                                          \n",
       "7625       10871                           O=C=Nc1ccc(-c2ccccc2)cc1       56   \n",
       "7626       10872                       Cc1cccc(OCC(O)CNC(C)(C)C)c1C       57   \n",
       "7627       10876                                      Cc1cccc(O)c1C  72.7(3)   \n",
       "7628       10877                                    Cc1ccc(O)c(C)c1    25(1)   \n",
       "7629       10878                                    Cc1ccc(C)c(O)c1  74.9(2)   \n",
       "7630       10879                                      Cc1cccc(C)c1O  45.4(4)   \n",
       "7631       10880                                      Cc1ccc(O)cc1C  65.1(2)   \n",
       "7632       10881                                    Cc1cc(C)cc(O)c1  63.4(3)   \n",
       "7633       10882  Cc1cc(C2(c3cc(C)c(O)c(CN(CC(=O)O)CC(=O)O)c3)OS...  286 dec   \n",
       "7634       10884  OC1O[C@H](CO[C@@H]2OC[C@@H](O)[C@H](O)[C@H]2O)...      210   \n",
       "7635       10888                             CNC(=O)Oc1cc(C)cc(C)c1       99   \n",
       "7636       10889     COC(=O)C1C(O)CCC2CN3CCc4c([nH]c5ccccc45)C3CC21      241   \n",
       "7637       10890  COC(=O)C1C(O)CCC2CN3CCc4c([nH]c5ccccc45)C3CC21.Cl      302   \n",
       "7638       10891             CC1CCCC(=O)CCCC=Cc2cc(O)cc(O)c2C(=O)O1      164   \n",
       "7639       10892       Cc1cn(C2CC(N=[N+]=[N-])C(CO)O2)c(=O)[nH]c1=O      121   \n",
       "\n",
       "       Processed tmp/ºC  \n",
       "INDEX                    \n",
       "7625               56.0  \n",
       "7626               57.0  \n",
       "7627               72.7  \n",
       "7628               25.0  \n",
       "7629               74.9  \n",
       "7630               45.4  \n",
       "7631               65.1  \n",
       "7632               63.4  \n",
       "7633              286.0  \n",
       "7634              210.0  \n",
       "7635               99.0  \n",
       "7636              241.0  \n",
       "7637              302.0  \n",
       "7638              164.0  \n",
       "7639              121.0  "
      ]
     },
     "execution_count": 46,
     "metadata": {},
     "output_type": "execute_result"
    }
   ],
   "source": [
    "vec_file = '/Users/aravindhnivas/Documents/ML-properties/[PHYSICAL CONSTANTS OF ORGANIC COMPOUNDS]/tmp_C_processed_data/analysis_data/filtered/tmpC_topelements_processed_data/embedded_vectors/VICGAE_embeddings.npy'\n",
    "csv_file = '/Users/aravindhnivas/Documents/ML-properties/[PHYSICAL CONSTANTS OF ORGANIC COMPOUNDS]/tmp_C_processed_data/analysis_data/filtered/tmpC_topelements.csv'\n",
    "\n",
    "vectors = np.load(vec_file)\n",
    "vectors = np.array(vectors)\n",
    "print(vectors.shape)\n",
    "\n",
    "df = pd.read_csv(csv_file)\n",
    "df = df.set_index('INDEX')\n",
    "# df = pd.read_csv(csv_file)\n",
    "df.tail(15)"
   ]
  },
  {
   "cell_type": "code",
   "execution_count": 103,
   "metadata": {},
   "outputs": [],
   "source": [
    "smi_df = df['SMILES']\n",
    "smi_df.to_csv('./smiles.csv')"
   ]
  },
  {
   "cell_type": "code",
   "execution_count": 97,
   "metadata": {},
   "outputs": [],
   "source": [
    "invalid_indices_full = ['# Invalid']\n",
    "invalid_indices_full.extend([7637, 7639])\n",
    "invalid_indices_full.extend(['# Invalid'])\n",
    "invalid_indices_full.extend([7639, 7638])\n",
    "np.savetxt('./invalid_indices_full.txt', invalid_indices_full, fmt='%s')"
   ]
  },
  {
   "cell_type": "code",
   "execution_count": 98,
   "metadata": {},
   "outputs": [
    {
     "name": "stdout",
     "output_type": "stream",
     "text": [
      "[7637. 7638. 7639.]\n"
     ]
    },
    {
     "data": {
      "text/html": [
       "<div>\n",
       "<style scoped>\n",
       "    .dataframe tbody tr th:only-of-type {\n",
       "        vertical-align: middle;\n",
       "    }\n",
       "\n",
       "    .dataframe tbody tr th {\n",
       "        vertical-align: top;\n",
       "    }\n",
       "\n",
       "    .dataframe thead th {\n",
       "        text-align: right;\n",
       "    }\n",
       "</style>\n",
       "<table border=\"1\" class=\"dataframe\">\n",
       "  <thead>\n",
       "    <tr style=\"text-align: right;\">\n",
       "      <th></th>\n",
       "      <th>CRC Index</th>\n",
       "      <th>SMILES</th>\n",
       "      <th>tmp/ºC</th>\n",
       "      <th>Processed tmp/ºC</th>\n",
       "    </tr>\n",
       "    <tr>\n",
       "      <th>INDEX</th>\n",
       "      <th></th>\n",
       "      <th></th>\n",
       "      <th></th>\n",
       "      <th></th>\n",
       "    </tr>\n",
       "  </thead>\n",
       "  <tbody>\n",
       "    <tr>\n",
       "      <th>0</th>\n",
       "      <td>0</td>\n",
       "      <td>COP(=S)(OC)Oc1ccc(Sc2ccc(OP(=S)(OC)OC)cc2)cc1</td>\n",
       "      <td>31.6(5)</td>\n",
       "      <td>31.6</td>\n",
       "    </tr>\n",
       "    <tr>\n",
       "      <th>1</th>\n",
       "      <td>1</td>\n",
       "      <td>CC(C)C1=CC2=CCC3C(C)(C(=O)O)CCCC3(C)C2CC1</td>\n",
       "      <td>173.5</td>\n",
       "      <td>173.5</td>\n",
       "    </tr>\n",
       "    <tr>\n",
       "      <th>2</th>\n",
       "      <td>2</td>\n",
       "      <td>CC(C=CC1(O)C(C)=CC(=O)CC1(C)C)=CC(=O)O</td>\n",
       "      <td>160</td>\n",
       "      <td>160.0</td>\n",
       "    </tr>\n",
       "    <tr>\n",
       "      <th>3</th>\n",
       "      <td>3</td>\n",
       "      <td>COc1ccc(-c2cc(=O)c3c(O)cc(O)cc3o2)cc1</td>\n",
       "      <td>263</td>\n",
       "      <td>263.0</td>\n",
       "    </tr>\n",
       "    <tr>\n",
       "      <th>4</th>\n",
       "      <td>4</td>\n",
       "      <td>CCCC(=O)Nc1ccc(OCC(O)CNC(C)C)c(C(C)=O)c1</td>\n",
       "      <td>121</td>\n",
       "      <td>121.0</td>\n",
       "    </tr>\n",
       "    <tr>\n",
       "      <th>...</th>\n",
       "      <td>...</td>\n",
       "      <td>...</td>\n",
       "      <td>...</td>\n",
       "      <td>...</td>\n",
       "    </tr>\n",
       "    <tr>\n",
       "      <th>7632</th>\n",
       "      <td>10881</td>\n",
       "      <td>Cc1cc(C)cc(O)c1</td>\n",
       "      <td>63.4(3)</td>\n",
       "      <td>63.4</td>\n",
       "    </tr>\n",
       "    <tr>\n",
       "      <th>7633</th>\n",
       "      <td>10882</td>\n",
       "      <td>Cc1cc(C2(c3cc(C)c(O)c(CN(CC(=O)O)CC(=O)O)c3)OS...</td>\n",
       "      <td>286 dec</td>\n",
       "      <td>286.0</td>\n",
       "    </tr>\n",
       "    <tr>\n",
       "      <th>7634</th>\n",
       "      <td>10884</td>\n",
       "      <td>OC1O[C@H](CO[C@@H]2OC[C@@H](O)[C@H](O)[C@H]2O)...</td>\n",
       "      <td>210</td>\n",
       "      <td>210.0</td>\n",
       "    </tr>\n",
       "    <tr>\n",
       "      <th>7635</th>\n",
       "      <td>10888</td>\n",
       "      <td>CNC(=O)Oc1cc(C)cc(C)c1</td>\n",
       "      <td>99</td>\n",
       "      <td>99.0</td>\n",
       "    </tr>\n",
       "    <tr>\n",
       "      <th>7636</th>\n",
       "      <td>10889</td>\n",
       "      <td>COC(=O)C1C(O)CCC2CN3CCc4c([nH]c5ccccc45)C3CC21</td>\n",
       "      <td>241</td>\n",
       "      <td>241.0</td>\n",
       "    </tr>\n",
       "  </tbody>\n",
       "</table>\n",
       "<p>7473 rows × 4 columns</p>\n",
       "</div>"
      ],
      "text/plain": [
       "       CRC Index                                             SMILES   tmp/ºC  \\\n",
       "INDEX                                                                          \n",
       "0              0      COP(=S)(OC)Oc1ccc(Sc2ccc(OP(=S)(OC)OC)cc2)cc1  31.6(5)   \n",
       "1              1          CC(C)C1=CC2=CCC3C(C)(C(=O)O)CCCC3(C)C2CC1    173.5   \n",
       "2              2             CC(C=CC1(O)C(C)=CC(=O)CC1(C)C)=CC(=O)O      160   \n",
       "3              3              COc1ccc(-c2cc(=O)c3c(O)cc(O)cc3o2)cc1      263   \n",
       "4              4           CCCC(=O)Nc1ccc(OCC(O)CNC(C)C)c(C(C)=O)c1      121   \n",
       "...          ...                                                ...      ...   \n",
       "7632       10881                                    Cc1cc(C)cc(O)c1  63.4(3)   \n",
       "7633       10882  Cc1cc(C2(c3cc(C)c(O)c(CN(CC(=O)O)CC(=O)O)c3)OS...  286 dec   \n",
       "7634       10884  OC1O[C@H](CO[C@@H]2OC[C@@H](O)[C@H](O)[C@H]2O)...      210   \n",
       "7635       10888                             CNC(=O)Oc1cc(C)cc(C)c1       99   \n",
       "7636       10889     COC(=O)C1C(O)CCC2CN3CCc4c([nH]c5ccccc45)C3CC21      241   \n",
       "\n",
       "       Processed tmp/ºC  \n",
       "INDEX                    \n",
       "0                  31.6  \n",
       "1                 173.5  \n",
       "2                 160.0  \n",
       "3                 263.0  \n",
       "4                 121.0  \n",
       "...                 ...  \n",
       "7632               63.4  \n",
       "7633              286.0  \n",
       "7634              210.0  \n",
       "7635               99.0  \n",
       "7636              241.0  \n",
       "\n",
       "[7473 rows x 4 columns]"
      ]
     },
     "execution_count": 98,
     "metadata": {},
     "output_type": "execute_result"
    }
   ],
   "source": [
    "val = np.loadtxt('./invalid_indices_full.txt')\n",
    "\n",
    "# unique values\n",
    "invalid_ind = np.unique(val)\n",
    "print(invalid_ind)\n",
    "valid_df = df.drop(invalid_ind)\n",
    "valid_df"
   ]
  },
  {
   "cell_type": "code",
   "execution_count": 73,
   "metadata": {},
   "outputs": [
    {
     "data": {
      "text/plain": [
       "276"
      ]
     },
     "execution_count": 73,
     "metadata": {},
     "output_type": "execute_result"
    }
   ],
   "source": [
    "# invalid vec are where all elements are 0\n",
    "invalid_vec_ind = np.all(vectors == 0, axis=1)\n",
    "invalid_vec = vectors[invalid_vec_ind]\n",
    "invalid_vec_ind.sum()"
   ]
  },
  {
   "cell_type": "code",
   "execution_count": 37,
   "metadata": {},
   "outputs": [
    {
     "data": {
      "text/plain": [
       "(array([False, False, False, ...,  True, False, False]),\n",
       " array([[0., 0., 0., ..., 0., 0., 0.],\n",
       "        [0., 0., 0., ..., 0., 0., 0.],\n",
       "        [0., 0., 0., ..., 0., 0., 0.],\n",
       "        ...,\n",
       "        [0., 0., 0., ..., 0., 0., 0.],\n",
       "        [0., 0., 0., ..., 0., 0., 0.],\n",
       "        [0., 0., 0., ..., 0., 0., 0.]]))"
      ]
     },
     "execution_count": 37,
     "metadata": {},
     "output_type": "execute_result"
    }
   ],
   "source": [
    "invalid_vec_ind, invalid_vec"
   ]
  },
  {
   "cell_type": "code",
   "execution_count": 51,
   "metadata": {},
   "outputs": [],
   "source": [
    "invalid_smiles = df['SMILES'].loc[invalid_vec_ind]\n",
    "invalid_smiles.to_csv('invalid_smiles.csv')"
   ]
  },
  {
   "cell_type": "code",
   "execution_count": 38,
   "metadata": {},
   "outputs": [],
   "source": [
    "from typing import Union\n",
    "\n",
    "\n",
    "def convert_to_float(value: Union[str, float]) -> float:\n",
    "    try:\n",
    "        return float(value)\n",
    "    except ValueError:\n",
    "        if isinstance(value, str) and \"-\" in value:\n",
    "            parts = value.split(\"-\")\n",
    "            if len(parts) == 2 and parts[0] and parts[1]:\n",
    "                try:\n",
    "                    return (float(parts[0]) + float(parts[1])) / 2\n",
    "                except ValueError:\n",
    "                    pass\n",
    "        return np.nan"
   ]
  },
  {
   "cell_type": "code",
   "execution_count": 70,
   "metadata": {},
   "outputs": [
    {
     "data": {
      "text/plain": [
       "(0, Series([], Name: Processed tmp/ºC, dtype: float64))"
      ]
     },
     "execution_count": 70,
     "metadata": {},
     "output_type": "execute_result"
    }
   ],
   "source": [
    "y = df['Processed tmp/ºC'].apply(convert_to_float)\n",
    "invalid_y_ind = y.isna()\n",
    "invalid_y = y[invalid_y_ind]\n",
    "invalid_y_ind.sum(), invalid_y"
   ]
  },
  {
   "cell_type": "code",
   "execution_count": 42,
   "metadata": {},
   "outputs": [
    {
     "data": {
      "text/plain": [
       "Index([], dtype='int64', name='INDEX')"
      ]
     },
     "execution_count": 42,
     "metadata": {},
     "output_type": "execute_result"
    }
   ],
   "source": [
    "invalid_y_ind = y[invalid_y].index\n",
    "invalid_y_ind"
   ]
  },
  {
   "cell_type": "code",
   "execution_count": 60,
   "metadata": {},
   "outputs": [
    {
     "data": {
      "text/plain": [
       "array([  53,   54,   55,   86,  112,  167,  168,  169,  232,  236,  290,\n",
       "        336,  362,  363,  364,  366,  393,  402,  408,  418,  421,  449,\n",
       "        479,  483,  502,  505,  534,  620,  656,  669,  671,  676,  707,\n",
       "        713,  735,  747,  781,  786,  792,  938, 1028, 1074, 1113, 1129,\n",
       "       1176, 1263, 1312, 1332, 1333, 1348, 1365, 1366, 1432, 1452, 1464,\n",
       "       1468, 1492, 1497, 1499, 1565, 1703, 1727, 1731, 1755, 1759, 1777,\n",
       "       1783, 1814, 1818, 1963, 1967, 1968, 1992, 2028, 2031, 2047, 2048,\n",
       "       2078, 2110, 2182, 2410, 2417, 2444, 2447, 2460, 2494, 2532, 2610,\n",
       "       2783, 2803, 2814, 2926, 3200, 3243, 3244, 3253, 3305, 3306, 3313,\n",
       "       3315, 3319, 3329, 3346, 3348, 3370, 3376, 3380, 3414, 3417, 3467,\n",
       "       3540, 3579, 3644, 3799, 3817, 3853, 3857, 3875, 3894, 3895, 3900,\n",
       "       3917, 3920, 3921, 3922, 3929, 4049, 4050, 4066, 4128, 4150, 4152,\n",
       "       4278, 4376, 4398, 4407, 4418, 4427, 4493, 4551, 4558, 4622, 4650,\n",
       "       4672, 4675, 4685, 4708, 4710, 4728, 4731, 4734, 4742, 4744, 4748,\n",
       "       4757, 4762, 4832, 4846, 4857, 4869, 4875, 4876, 5024, 5130, 5420,\n",
       "       5434, 5526, 5558, 5646, 5786, 5865, 5888, 5897, 5953, 5958, 5960,\n",
       "       5964, 5968, 5973, 6033, 6138, 6162, 6190, 6237, 6248, 6258, 6287,\n",
       "       6297, 6336, 6360, 6362, 6363, 6383, 6409, 6412, 6413, 6422, 6449,\n",
       "       6467, 6505, 6554, 6570, 6573, 6574, 6597, 6606, 6607, 6627, 6654,\n",
       "       6669, 6687, 6694, 6702, 6703, 6704, 6705, 6707, 6708, 6709, 6710,\n",
       "       6711, 6712, 6713, 6714, 6715, 6716, 6717, 6718, 6720, 6721, 6723,\n",
       "       6724, 6747, 6750, 6751, 6759, 6762, 6792, 6827, 6834, 6835, 6836,\n",
       "       6837, 6838, 6839, 6842, 6889, 6907, 6908, 6963, 6967, 6968, 6969,\n",
       "       7029, 7030, 7032, 7052, 7053, 7054, 7119, 7281, 7300, 7335, 7365,\n",
       "       7385, 7457, 7470, 7496, 7516, 7517, 7526, 7531, 7537, 7561, 7562,\n",
       "       7637])"
      ]
     },
     "execution_count": 60,
     "metadata": {},
     "output_type": "execute_result"
    }
   ],
   "source": [
    "np.append(invalid_smiles.index.values, invalid_y.index.values)\n"
   ]
  }
 ],
 "metadata": {
  "kernelspec": {
   "display_name": ".venv",
   "language": "python",
   "name": "python3"
  },
  "language_info": {
   "codemirror_mode": {
    "name": "ipython",
    "version": 3
   },
   "file_extension": ".py",
   "mimetype": "text/x-python",
   "name": "python",
   "nbconvert_exporter": "python",
   "pygments_lexer": "ipython3",
   "version": "3.12.5"
  }
 },
 "nbformat": 4,
 "nbformat_minor": 2
}
