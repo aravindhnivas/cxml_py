{
 "cells": [
  {
   "cell_type": "code",
   "execution_count": 3,
   "metadata": {},
   "outputs": [],
   "source": [
    "from pathlib import Path as pt\n",
    "import pandas as pd\n",
    "import json"
   ]
  },
  {
   "cell_type": "code",
   "execution_count": 27,
   "metadata": {},
   "outputs": [
    {
     "data": {
      "text/plain": [
       "PosixPath('/Users/aravindhnivas/Library/CloudStorage/OneDrive-MassachusettsInstituteofTechnology/ML-properties')"
      ]
     },
     "execution_count": 27,
     "metadata": {},
     "output_type": "execute_result"
    }
   ],
   "source": [
    "from load_data import (\n",
    "    processed_data_dirs, plots_dir, titles, total_counts,\n",
    "    models, models_labels, embeddings_dirname, embeddings_names, root_loc\n",
    ")\n",
    "root_loc"
   ]
  },
  {
   "cell_type": "code",
   "execution_count": 26,
   "metadata": {},
   "outputs": [
    {
     "data": {
      "text/html": [
       "<div>\n",
       "<style scoped>\n",
       "    .dataframe tbody tr th:only-of-type {\n",
       "        vertical-align: middle;\n",
       "    }\n",
       "\n",
       "    .dataframe tbody tr th {\n",
       "        vertical-align: top;\n",
       "    }\n",
       "\n",
       "    .dataframe thead th {\n",
       "        text-align: right;\n",
       "    }\n",
       "</style>\n",
       "<table border=\"1\" class=\"dataframe\">\n",
       "  <thead>\n",
       "    <tr style=\"text-align: right;\">\n",
       "      <th></th>\n",
       "      <th>Property</th>\n",
       "      <th>Embedder</th>\n",
       "      <th>Original</th>\n",
       "      <th>Validated</th>\n",
       "      <th>Cleaned</th>\n",
       "    </tr>\n",
       "  </thead>\n",
       "  <tbody>\n",
       "    <tr>\n",
       "      <th>0</th>\n",
       "      <td>MP</td>\n",
       "      <td>Mol2Vec</td>\n",
       "      <td>7476</td>\n",
       "      <td>7476</td>\n",
       "      <td>6167</td>\n",
       "    </tr>\n",
       "    <tr>\n",
       "      <th>1</th>\n",
       "      <td>MP</td>\n",
       "      <td>VICGAE</td>\n",
       "      <td>7476</td>\n",
       "      <td>7200</td>\n",
       "      <td>6030</td>\n",
       "    </tr>\n",
       "    <tr>\n",
       "      <th>2</th>\n",
       "      <td>BP</td>\n",
       "      <td>Mol2Vec</td>\n",
       "      <td>4915</td>\n",
       "      <td>4915</td>\n",
       "      <td>4816</td>\n",
       "    </tr>\n",
       "    <tr>\n",
       "      <th>3</th>\n",
       "      <td>BP</td>\n",
       "      <td>VICGAE</td>\n",
       "      <td>4915</td>\n",
       "      <td>4909</td>\n",
       "      <td>4663</td>\n",
       "    </tr>\n",
       "    <tr>\n",
       "      <th>4</th>\n",
       "      <td>VP</td>\n",
       "      <td>Mol2Vec</td>\n",
       "      <td>398</td>\n",
       "      <td>398</td>\n",
       "      <td>353</td>\n",
       "    </tr>\n",
       "    <tr>\n",
       "      <th>5</th>\n",
       "      <td>VP</td>\n",
       "      <td>VICGAE</td>\n",
       "      <td>398</td>\n",
       "      <td>398</td>\n",
       "      <td>323</td>\n",
       "    </tr>\n",
       "    <tr>\n",
       "      <th>6</th>\n",
       "      <td>CP</td>\n",
       "      <td>Mol2Vec</td>\n",
       "      <td>777</td>\n",
       "      <td>777</td>\n",
       "      <td>753</td>\n",
       "    </tr>\n",
       "    <tr>\n",
       "      <th>7</th>\n",
       "      <td>CP</td>\n",
       "      <td>VICGAE</td>\n",
       "      <td>777</td>\n",
       "      <td>776</td>\n",
       "      <td>752</td>\n",
       "    </tr>\n",
       "    <tr>\n",
       "      <th>8</th>\n",
       "      <td>CT</td>\n",
       "      <td>Mol2Vec</td>\n",
       "      <td>819</td>\n",
       "      <td>819</td>\n",
       "      <td>819</td>\n",
       "    </tr>\n",
       "    <tr>\n",
       "      <th>9</th>\n",
       "      <td>CT</td>\n",
       "      <td>VICGAE</td>\n",
       "      <td>819</td>\n",
       "      <td>818</td>\n",
       "      <td>777</td>\n",
       "    </tr>\n",
       "  </tbody>\n",
       "</table>\n",
       "</div>"
      ],
      "text/plain": [
       "  Property Embedder  Original  Validated  Cleaned\n",
       "0       MP  Mol2Vec      7476       7476     6167\n",
       "1       MP   VICGAE      7476       7200     6030\n",
       "2       BP  Mol2Vec      4915       4915     4816\n",
       "3       BP   VICGAE      4915       4909     4663\n",
       "4       VP  Mol2Vec       398        398      353\n",
       "5       VP   VICGAE       398        398      323\n",
       "6       CP  Mol2Vec       777        777      753\n",
       "7       CP   VICGAE       777        776      752\n",
       "8       CT  Mol2Vec       819        819      819\n",
       "9       CT   VICGAE       819        818      777"
      ]
     },
     "execution_count": 26,
     "metadata": {},
     "output_type": "execute_result"
    }
   ],
   "source": [
    "embedded_vec_dir = [d / 'embedded_vectors' for d in processed_data_dirs]\n",
    "columns = ['Property', 'Embedder', 'Original', 'Validated', 'Cleaned']\n",
    "\n",
    "lists = []\n",
    "\n",
    "for d, t in zip(embedded_vec_dir, titles):\n",
    "    for em, em_name in zip(embeddings_dirname, embeddings_names):\n",
    "        dir = d / f'processed_{em}'\n",
    "        meta = dir / 'metadata.json'\n",
    "        if not meta.exists():\n",
    "            print(f'{meta} does not exist')\n",
    "            continue\n",
    "        \n",
    "        data = json.load(meta.open())\n",
    "        if 'original_length' not in data:\n",
    "            print(f'{meta} does not have original_length')\n",
    "            continue\n",
    "        \n",
    "        original = data['original_length']\n",
    "        validated = data['final_length']\n",
    "        cleaned = data['cleaned_length']\n",
    "        temp = [t, em_name, original, validated, cleaned]\n",
    "        lists.append(temp)\n",
    "\n",
    "df = pd.DataFrame(lists, columns=columns)\n",
    "df    "
   ]
  },
  {
   "cell_type": "code",
   "execution_count": 29,
   "metadata": {},
   "outputs": [],
   "source": [
    "df.to_csv(root_loc / 'results' / 'data_shapes.csv', index=False)"
   ]
  },
  {
   "cell_type": "code",
   "execution_count": null,
   "metadata": {},
   "outputs": [],
   "source": []
  }
 ],
 "metadata": {
  "kernelspec": {
   "display_name": ".venv",
   "language": "python",
   "name": "python3"
  },
  "language_info": {
   "codemirror_mode": {
    "name": "ipython",
    "version": 3
   },
   "file_extension": ".py",
   "mimetype": "text/x-python",
   "name": "python",
   "nbconvert_exporter": "python",
   "pygments_lexer": "ipython3",
   "version": "3.12.5"
  }
 },
 "nbformat": 4,
 "nbformat_minor": 2
}
