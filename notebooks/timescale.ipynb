{
 "cells": [
  {
   "cell_type": "code",
   "execution_count": 1,
   "metadata": {},
   "outputs": [],
   "source": [
    "import numpy as np\n",
    "from pathlib import Path as pt\n",
    "\n",
    "from sklearn.ensemble import GradientBoostingRegressor\n",
    "from xgboost import XGBRegressor\n",
    "from catboost import CatBoostRegressor\n",
    "from lightgbm import LGBMRegressor\n",
    "from sklearn.model_selection import train_test_split\n",
    "from sklearn.base import clone"
   ]
  },
  {
   "cell_type": "code",
   "execution_count": 2,
   "metadata": {},
   "outputs": [
    {
     "data": {
      "text/plain": [
       "((5760, 32), (5760,), (1440, 32), (1440,))"
      ]
     },
     "execution_count": 2,
     "metadata": {},
     "output_type": "execute_result"
    }
   ],
   "source": [
    "base_loc = pt('/Users/aravindhnivas/Documents/ML-properties/[PHYSICAL CONSTANTS OF ORGANIC COMPOUNDS]/tmp_C_processed_data/analysis_data/filtered/tmpC_topelements_processed_data/embedded_vectors')\n",
    "\n",
    "# embeddings = 'mol2vec_embeddings'\n",
    "embeddings = 'VICGAE_embeddings'\n",
    "processed_vec_dir = base_loc / f'processed_{embeddings}'\n",
    "X = np.load(processed_vec_dir / 'processed.X.npy', allow_pickle=True)\n",
    "y = np.load(processed_vec_dir / 'processed.y.npy', allow_pickle=True)\n",
    "\n",
    "X_train, X_test, y_train, y_test = train_test_split(X, y, test_size=0.2, random_state=42)\n",
    "X_train.shape, y_train.shape, X_test.shape, y_test.shape\n"
   ]
  },
  {
   "cell_type": "code",
   "execution_count": 3,
   "metadata": {},
   "outputs": [],
   "source": [
    "gbr_model = GradientBoostingRegressor()\n",
    "xgb_model = XGBRegressor(verbosity=0)\n",
    "cat_model = CatBoostRegressor(verbose=0)\n",
    "lgb_model = LGBMRegressor(verbose=-1)"
   ]
  },
  {
   "cell_type": "code",
   "execution_count": 4,
   "metadata": {},
   "outputs": [],
   "source": [
    "def train_model(model, X_train, y_train):\n",
    "    cloned_model = clone(model)\n",
    "    cloned_model.fit(X_train, y_train)\n",
    "    return"
   ]
  },
  {
   "cell_type": "code",
   "execution_count": 5,
   "metadata": {},
   "outputs": [
    {
     "name": "stdout",
     "output_type": "stream",
     "text": [
      "4.3 s ± 41.8 ms per loop (mean ± std. dev. of 7 runs, 1 loop each)\n"
     ]
    }
   ],
   "source": [
    "%%timeit\n",
    "train_model(gbr_model, X_train, y_train)"
   ]
  },
  {
   "cell_type": "code",
   "execution_count": 6,
   "metadata": {},
   "outputs": [
    {
     "name": "stdout",
     "output_type": "stream",
     "text": [
      "263 ms ± 3.61 ms per loop (mean ± std. dev. of 7 runs, 1 loop each)\n"
     ]
    }
   ],
   "source": [
    "%%timeit\n",
    "train_model(xgb_model, X_train, y_train)"
   ]
  },
  {
   "cell_type": "code",
   "execution_count": 7,
   "metadata": {},
   "outputs": [
    {
     "name": "stdout",
     "output_type": "stream",
     "text": [
      "1.6 s ± 17.9 ms per loop (mean ± std. dev. of 7 runs, 1 loop each)\n"
     ]
    }
   ],
   "source": [
    "%%timeit\n",
    "train_model(cat_model, X_train, y_train)"
   ]
  },
  {
   "cell_type": "code",
   "execution_count": 8,
   "metadata": {},
   "outputs": [
    {
     "name": "stdout",
     "output_type": "stream",
     "text": [
      "541 ms ± 14 ms per loop (mean ± std. dev. of 7 runs, 1 loop each)\n"
     ]
    }
   ],
   "source": [
    "%%timeit\n",
    "train_model(lgb_model, X_train, y_train)"
   ]
  },
  {
   "cell_type": "markdown",
   "metadata": {},
   "source": [
    "## Apple M2 Pro\n",
    "32 GB, 10-core CPU\n",
    "\n",
    "### Mol2vec\n",
    "\n",
    "GBR: 40.6 s ± 143 ms per loop (mean ± std. dev. of 7 runs, 1 loop each)\n",
    "\n",
    "CATBOOST: 7.94 s ± 411 ms per loop (mean ± std. dev. of 7 runs, 1 loop each)\n",
    "\n",
    "XGBOOST: 1.24 s ± 21.2 ms per loop (mean ± std. dev. of 7 runs, 1 loop each)\n",
    "\n",
    "LGBM: 861 ms ± 3.94 ms per loop (mean ± std. dev. of 7 runs, 1 loop each)\n",
    "\n",
    "### VICGAE\n",
    "\n",
    "GBR: 4.3 s ± 41.8 ms per loop (mean ± std. dev. of 7 runs, 1 loop each)\n",
    "\n",
    "CATBOOST: 1.6 s ± 17.9 ms per loop (mean ± std. dev. of 7 runs, 1 loop each)\n",
    "\n",
    "XGBOOST: 263 ms ± 3.61 ms per loop (mean ± std. dev. of 7 runs, 1 loop each)\n",
    "\n",
    "LGBM: 541 ms ± 14 ms per loop (mean ± std. dev. of 7 runs, 1 loop each)"
   ]
  },
  {
   "cell_type": "code",
   "execution_count": 31,
   "metadata": {},
   "outputs": [
    {
     "data": {
      "text/plain": [
       "[9.44186046511628, 4.9625, 4.7148288973384025, 1.5914972273567467]"
      ]
     },
     "execution_count": 31,
     "metadata": {},
     "output_type": "execute_result"
    }
   ],
   "source": [
    "### Mol2vec\n",
    "# GBR: 40.6 s ± 143 ms per loop (mean ± std. dev. of 7 runs, 1 loop each)\n",
    "# CATBOOST: 7.94 s ± 411 ms per loop (mean ± std. dev. of 7 runs, 1 loop each)\n",
    "# XGBOOST: 1.24 s ± 21.2 ms per loop (mean ± std. dev. of 7 runs, 1 loop each)\n",
    "# LGBM: 861 ms ± 3.94 ms per loop (mean ± std. dev. of 7 runs, 1 loop each)\n",
    "\n",
    "# ### VICGAE\n",
    "# GBR: 4.3 s ± 41.8 ms per loop (mean ± std. dev. of 7 runs, 1 loop each)\n",
    "# CATBOOST: 1.6 s ± 17.9 ms per loop (mean ± std. dev. of 7 runs, 1 loop each)\n",
    "# XGBOOST: 263 ms ± 3.61 ms per loop (mean ± std. dev. of 7 runs, 1 loop each)\n",
    "# LGBM: 541 ms ± 14 ms per loop (mean ± std. dev. of 7 runs, 1 loop each)\n",
    "\n",
    "models = ['GBR', \"CATBOOST\", \"XGBOOST\", \"LGBM\"]\n",
    "mol2vec_times = [40.6, 7.94, 1.24, 0.861]\n",
    "mol2vec_errors = [0.143, 0.411, 0.0212, 0.00394]\n",
    "\n",
    "vicgae_times = [4.3, 1.6, 0.263, 0.541]\n",
    "vicgae_errors = [0.0418, 0.0179, 0.00361, 0.014]\n",
    "\n",
    "# Calculate speedup ratios\n",
    "speedup_ratios = [m/v for m, v in zip(mol2vec_times, vicgae_times)]\n",
    "speedup_ratios"
   ]
  },
  {
   "cell_type": "code",
   "execution_count": 44,
   "metadata": {},
   "outputs": [
    {
     "name": "stdout",
     "output_type": "stream",
     "text": [
      "9.44+/-0.10\n",
      "4.96+/-0.26\n",
      "4.71+/-0.10\n",
      "1.59+/-0.04\n"
     ]
    },
    {
     "data": {
      "text/plain": [
       "array([9.44186046511628+/-0.09762269542263158,\n",
       "       4.9625+/-0.26280603204478764,\n",
       "       4.7148288973384025+/-0.10337301177585793,\n",
       "       1.5914972273567467+/-0.04182373356272804], dtype=object)"
      ]
     },
     "execution_count": 44,
     "metadata": {},
     "output_type": "execute_result"
    }
   ],
   "source": [
    "import matplotlib.pyplot as plt\n",
    "from uncertainties import unumpy as unp\n",
    "from matplotlib.ticker import AutoMinorLocator\n",
    "\n",
    "mol2vec  = unp.uarray(mol2vec_times, mol2vec_errors)\n",
    "vicgae = unp.uarray(vicgae_times, vicgae_errors)\n",
    "\n",
    "mean, std = [], []\n",
    "for m, v in zip(mol2vec, vicgae):\n",
    "    val = m/v\n",
    "    print(val)\n",
    "    mean.append(val.nominal_value)\n",
    "    std.append(val.std_dev)\n",
    "\n",
    "speedup_ratios = unp.uarray(mean, std)\n",
    "speedup_ratios"
   ]
  },
  {
   "cell_type": "code",
   "execution_count": 66,
   "metadata": {},
   "outputs": [
    {
     "data": {
      "image/png": "[encoded data removed]",
      "text/plain": [
       "<Figure size 960x720 with 1 Axes>"
      ]
     },
     "metadata": {},
     "output_type": "display_data"
    }
   ],
   "source": [
    "plt.close('all')\n",
    "fig, ax = plt.subplots(dpi=150)\n",
    "\n",
    "ax.bar(\n",
    "    models, \n",
    "    unp.nominal_values(speedup_ratios), \n",
    "    yerr=unp.std_devs(speedup_ratios), \n",
    "    edgecolor='black', \n",
    "    linewidth=1.5, \n",
    "    capsize=5,\n",
    "    color='C0',\n",
    "    alpha=0.8\n",
    ")\n",
    "\n",
    "# ax.legend()\n",
    "ax.set_ylabel('Mol2Vec / VICGAE timescale ratio', fontsize=12)\n",
    "ax.yaxis.set_minor_locator(AutoMinorLocator())\n",
    "ax.tick_params(axis='y', width=1.5, length=6, which='major')\n",
    "ax.tick_params(axis='y', width=1, length=3, which='minor')\n",
    "# ax.set_ybound(lower=0, upper=50)\n",
    "\n",
    "plots_dir = pt('/Users/aravindhnivas/Documents/ML-properties/plots/')\n",
    "fig.savefig(plots_dir / 'execution_timescales.pdf', dpi=150, bbox_inches='tight')\n",
    "\n",
    "plt.show()"
   ]
  }
 ],
 "metadata": {
  "kernelspec": {
   "display_name": ".venv",
   "language": "python",
   "name": "python3"
  },
  "language_info": {
   "codemirror_mode": {
    "name": "ipython",
    "version": 3
   },
   "file_extension": ".py",
   "mimetype": "text/x-python",
   "name": "python",
   "nbconvert_exporter": "python",
   "pygments_lexer": "ipython3",
   "version": "3.12.5"
  }
 },
 "nbformat": 4,
 "nbformat_minor": 2
}
