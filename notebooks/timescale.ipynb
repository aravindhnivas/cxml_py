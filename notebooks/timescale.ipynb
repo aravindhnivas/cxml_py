{
 "cells": [
  {
   "cell_type": "code",
   "execution_count": 1,
   "metadata": {},
   "outputs": [],
   "source": [
    "import numpy as np\n",
    "from pathlib import Path as pt\n",
    "\n",
    "from sklearn.ensemble import GradientBoostingRegressor\n",
    "from xgboost import XGBRegressor\n",
    "from catboost import CatBoostRegressor\n",
    "from lightgbm import LGBMRegressor\n",
    "from sklearn.model_selection import train_test_split\n",
    "from sklearn.base import clone"
   ]
  },
  {
   "cell_type": "code",
   "execution_count": 2,
   "metadata": {},
   "outputs": [
    {
     "data": {
      "text/plain": [
       "((5760, 32), (5760,), (1440, 32), (1440,))"
      ]
     },
     "execution_count": 2,
     "metadata": {},
     "output_type": "execute_result"
    }
   ],
   "source": [
    "base_loc = pt('/Users/aravindhnivas/Documents/ML-properties/[PHYSICAL CONSTANTS OF ORGANIC COMPOUNDS]/tmp_C_processed_data/analysis_data/filtered/tmpC_topelements_processed_data/embedded_vectors')\n",
    "\n",
    "# embeddings = 'mol2vec_embeddings'\n",
    "embeddings = 'VICGAE_embeddings'\n",
    "processed_vec_dir = base_loc / f'processed_{embeddings}'\n",
    "X = np.load(processed_vec_dir / 'processed.X.npy', allow_pickle=True)\n",
    "y = np.load(processed_vec_dir / 'processed.y.npy', allow_pickle=True)\n",
    "\n",
    "X_train, X_test, y_train, y_test = train_test_split(X, y, test_size=0.2, random_state=42)\n",
    "X_train.shape, y_train.shape, X_test.shape, y_test.shape\n"
   ]
  },
  {
   "cell_type": "code",
   "execution_count": 3,
   "metadata": {},
   "outputs": [],
   "source": [
    "gbr_model = GradientBoostingRegressor()\n",
    "xgb_model = XGBRegressor(verbosity=0)\n",
    "cat_model = CatBoostRegressor(verbose=0)\n",
    "lgb_model = LGBMRegressor(verbose=-1)"
   ]
  },
  {
   "cell_type": "code",
   "execution_count": 4,
   "metadata": {},
   "outputs": [],
   "source": [
    "def train_model(model, X_train, y_train):\n",
    "    cloned_model = clone(model)\n",
    "    cloned_model.fit(X_train, y_train)\n",
    "    return"
   ]
  },
  {
   "cell_type": "code",
   "execution_count": 5,
   "metadata": {},
   "outputs": [
    {
     "name": "stdout",
     "output_type": "stream",
     "text": [
      "4.3 s ± 41.8 ms per loop (mean ± std. dev. of 7 runs, 1 loop each)\n"
     ]
    }
   ],
   "source": [
    "%%timeit\n",
    "train_model(gbr_model, X_train, y_train)"
   ]
  },
  {
   "cell_type": "code",
   "execution_count": 6,
   "metadata": {},
   "outputs": [
    {
     "name": "stdout",
     "output_type": "stream",
     "text": [
      "263 ms ± 3.61 ms per loop (mean ± std. dev. of 7 runs, 1 loop each)\n"
     ]
    }
   ],
   "source": [
    "%%timeit\n",
    "train_model(xgb_model, X_train, y_train)"
   ]
  },
  {
   "cell_type": "code",
   "execution_count": 7,
   "metadata": {},
   "outputs": [
    {
     "name": "stdout",
     "output_type": "stream",
     "text": [
      "1.6 s ± 17.9 ms per loop (mean ± std. dev. of 7 runs, 1 loop each)\n"
     ]
    }
   ],
   "source": [
    "%%timeit\n",
    "train_model(cat_model, X_train, y_train)"
   ]
  },
  {
   "cell_type": "code",
   "execution_count": 8,
   "metadata": {},
   "outputs": [
    {
     "name": "stdout",
     "output_type": "stream",
     "text": [
      "541 ms ± 14 ms per loop (mean ± std. dev. of 7 runs, 1 loop each)\n"
     ]
    }
   ],
   "source": [
    "%%timeit\n",
    "train_model(lgb_model, X_train, y_train)"
   ]
  },
  {
   "cell_type": "markdown",
   "metadata": {},
   "source": [
    "## Apple M2 Pro\n",
    "32 GB, 10-core CPU\n",
    "\n",
    "### Mol2vec\n",
    "\n",
    "GBR: 40.6 s ± 143 ms per loop (mean ± std. dev. of 7 runs, 1 loop each)\n",
    "\n",
    "CATBOOST: 7.94 s ± 411 ms per loop (mean ± std. dev. of 7 runs, 1 loop each)\n",
    "\n",
    "XGBOOST: 1.24 s ± 21.2 ms per loop (mean ± std. dev. of 7 runs, 1 loop each)\n",
    "\n",
    "LGBM: 861 ms ± 3.94 ms per loop (mean ± std. dev. of 7 runs, 1 loop each)\n",
    "\n",
    "### VICGAE\n",
    "\n",
    "GBR: 4.3 s ± 41.8 ms per loop (mean ± std. dev. of 7 runs, 1 loop each)\n",
    "\n",
    "CATBOOST: 1.6 s ± 17.9 ms per loop (mean ± std. dev. of 7 runs, 1 loop each)\n",
    "\n",
    "XGBOOST: 263 ms ± 3.61 ms per loop (mean ± std. dev. of 7 runs, 1 loop each)\n",
    "\n",
    "LGBM: 541 ms ± 14 ms per loop (mean ± std. dev. of 7 runs, 1 loop each)"
   ]
  }
 ],
 "metadata": {
  "kernelspec": {
   "display_name": ".venv",
   "language": "python",
   "name": "python3"
  },
  "language_info": {
   "codemirror_mode": {
    "name": "ipython",
    "version": 3
   },
   "file_extension": ".py",
   "mimetype": "text/x-python",
   "name": "python",
   "nbconvert_exporter": "python",
   "pygments_lexer": "ipython3",
   "version": "3.12.5"
  }
 },
 "nbformat": 4,
 "nbformat_minor": 2
}
