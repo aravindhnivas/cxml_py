{
 "cells": [
  {
   "cell_type": "code",
   "execution_count": 14,
   "metadata": {},
   "outputs": [],
   "source": [
    "import pandas as pd\n",
    "import numpy as np\n",
    "from optuna.visualization import (\n",
    "    plot_param_importances,\n",
    "    plot_optimization_history,\n",
    "    plot_parallel_coordinate,\n",
    "    plot_slice,\n",
    "    plot_intermediate_values,\n",
    "    plot_edf,\n",
    "    plot_contour,\n",
    ")\n",
    "import plotly.io as pio\n",
    "import optuna\n",
    "from optuna.importance import get_param_importances\n",
    "from pathlib import Path as pt\n",
    "from loguru import logger"
   ]
  },
  {
   "cell_type": "code",
   "execution_count": 6,
   "metadata": {},
   "outputs": [
    {
     "data": {
      "text/plain": [
       "(True,\n",
       " 'sqlite:////Users/aravindhnivas/Library/CloudStorage/OneDrive-MassachusettsInstituteofTechnology/ML properties/Analysed/[PHYSICAL CONSTANTS OF ORGANIC COMPOUNDS]/tmp_C_processed_data/optuna/optuna_tmp_C.db')"
      ]
     },
     "execution_count": 6,
     "metadata": {},
     "output_type": "execute_result"
    }
   ],
   "source": [
    "optuna_storage_file = pt('/Users/aravindhnivas/Library/CloudStorage/OneDrive-MassachusettsInstituteofTechnology/ML properties/Analysed/[PHYSICAL CONSTANTS OF ORGANIC COMPOUNDS]/tmp_C_processed_data/optuna/optuna_tmp_C.db')\n",
    "storage = f'sqlite:///{optuna_storage_file}'\n",
    "optuna_storage_file.exists(), storage"
   ]
  },
  {
   "cell_type": "code",
   "execution_count": 11,
   "metadata": {},
   "outputs": [
    {
     "name": "stdout",
     "output_type": "stream",
     "text": [
      "tmpC_topelements_lgbm_mol2vec_embeddings_pretrained_model\n",
      "tmpC_topelements_lgbm_mol2vec_embeddings_pretrained_model_1\n"
     ]
    }
   ],
   "source": [
    "existing_studies = optuna.study.get_all_study_summaries(storage=storage)\n",
    "for s in existing_studies:\n",
    "    print(s.study_name)"
   ]
  },
  {
   "cell_type": "code",
   "execution_count": 13,
   "metadata": {},
   "outputs": [
    {
     "data": {
      "text/plain": [
       "{'n_estimators': 120,\n",
       " 'learning_rate': 0.04007607434405443,\n",
       " 'subsample': 0.5136060355997997,\n",
       " 'colsample_bytree': 0.6623465944665253,\n",
       " 'num_leaves': 255,\n",
       " 'min_child_samples': 97}"
      ]
     },
     "execution_count": 13,
     "metadata": {},
     "output_type": "execute_result"
    }
   ],
   "source": [
    "study_name = 'tmpC_topelements_lgbm_mol2vec_embeddings_pretrained_model'\n",
    "study = optuna.load_study(study_name=study_name, storage=storage)\n",
    "\n",
    "study.best_params"
   ]
  },
  {
   "cell_type": "code",
   "execution_count": 15,
   "metadata": {},
   "outputs": [
    {
     "name": "stderr",
     "output_type": "stream",
     "text": [
      "\u001b[32m2024-10-17 17:01:05.023\u001b[0m | \u001b[1mINFO    \u001b[0m | \u001b[36m__main__\u001b[0m:\u001b[36m<module>\u001b[0m:\u001b[36m6\u001b[0m - \u001b[1mImportances from get_param_importances (fanova):\u001b[0m\n",
      "\u001b[32m2024-10-17 17:01:05.024\u001b[0m | \u001b[1mINFO    \u001b[0m | \u001b[36m__main__\u001b[0m:\u001b[36m<module>\u001b[0m:\u001b[36m8\u001b[0m - \u001b[1mlearning_rate: 0.4377272929449897\u001b[0m\n",
      "\u001b[32m2024-10-17 17:01:05.024\u001b[0m | \u001b[1mINFO    \u001b[0m | \u001b[36m__main__\u001b[0m:\u001b[36m<module>\u001b[0m:\u001b[36m8\u001b[0m - \u001b[1mcolsample_bytree: 0.28215893274168524\u001b[0m\n",
      "\u001b[32m2024-10-17 17:01:05.024\u001b[0m | \u001b[1mINFO    \u001b[0m | \u001b[36m__main__\u001b[0m:\u001b[36m<module>\u001b[0m:\u001b[36m8\u001b[0m - \u001b[1mn_estimators: 0.1517495406555196\u001b[0m\n",
      "\u001b[32m2024-10-17 17:01:05.024\u001b[0m | \u001b[1mINFO    \u001b[0m | \u001b[36m__main__\u001b[0m:\u001b[36m<module>\u001b[0m:\u001b[36m8\u001b[0m - \u001b[1mnum_leaves: 0.062487301549861415\u001b[0m\n",
      "\u001b[32m2024-10-17 17:01:05.025\u001b[0m | \u001b[1mINFO    \u001b[0m | \u001b[36m__main__\u001b[0m:\u001b[36m<module>\u001b[0m:\u001b[36m8\u001b[0m - \u001b[1msubsample: 0.03888912473913061\u001b[0m\n",
      "\u001b[32m2024-10-17 17:01:05.025\u001b[0m | \u001b[1mINFO    \u001b[0m | \u001b[36m__main__\u001b[0m:\u001b[36m<module>\u001b[0m:\u001b[36m8\u001b[0m - \u001b[1mmin_child_samples: 0.026987807368813566\u001b[0m\n",
      "\u001b[32m2024-10-17 17:01:05.025\u001b[0m | \u001b[1mINFO    \u001b[0m | \u001b[36m__main__\u001b[0m:\u001b[36m<module>\u001b[0m:\u001b[36m10\u001b[0m - \u001b[1m\n",
      "Importances from get_param_importances (MDI):\u001b[0m\n",
      "\u001b[32m2024-10-17 17:01:05.025\u001b[0m | \u001b[1mINFO    \u001b[0m | \u001b[36m__main__\u001b[0m:\u001b[36m<module>\u001b[0m:\u001b[36m12\u001b[0m - \u001b[1mlearning_rate: 0.5081048598991437\u001b[0m\n",
      "\u001b[32m2024-10-17 17:01:05.026\u001b[0m | \u001b[1mINFO    \u001b[0m | \u001b[36m__main__\u001b[0m:\u001b[36m<module>\u001b[0m:\u001b[36m12\u001b[0m - \u001b[1mcolsample_bytree: 0.22435274445554182\u001b[0m\n",
      "\u001b[32m2024-10-17 17:01:05.026\u001b[0m | \u001b[1mINFO    \u001b[0m | \u001b[36m__main__\u001b[0m:\u001b[36m<module>\u001b[0m:\u001b[36m12\u001b[0m - \u001b[1mn_estimators: 0.15412295024053888\u001b[0m\n",
      "\u001b[32m2024-10-17 17:01:05.026\u001b[0m | \u001b[1mINFO    \u001b[0m | \u001b[36m__main__\u001b[0m:\u001b[36m<module>\u001b[0m:\u001b[36m12\u001b[0m - \u001b[1mnum_leaves: 0.06124478252382069\u001b[0m\n",
      "\u001b[32m2024-10-17 17:01:05.026\u001b[0m | \u001b[1mINFO    \u001b[0m | \u001b[36m__main__\u001b[0m:\u001b[36m<module>\u001b[0m:\u001b[36m12\u001b[0m - \u001b[1mmin_child_samples: 0.03012444486914289\u001b[0m\n",
      "\u001b[32m2024-10-17 17:01:05.026\u001b[0m | \u001b[1mINFO    \u001b[0m | \u001b[36m__main__\u001b[0m:\u001b[36m<module>\u001b[0m:\u001b[36m12\u001b[0m - \u001b[1msubsample: 0.02205021801181209\u001b[0m\n",
      "\u001b[32m2024-10-17 17:01:05.032\u001b[0m | \u001b[1mINFO    \u001b[0m | \u001b[36m__main__\u001b[0m:\u001b[36m<module>\u001b[0m:\u001b[36m31\u001b[0m - \u001b[1mSaving importance to tmpC_topelements_lgbm_mol2vec_embeddings_pretrained_model.hyperparameter_importance.csv\u001b[0m\n",
      "\u001b[32m2024-10-17 17:01:05.036\u001b[0m | \u001b[32m\u001b[1mSUCCESS \u001b[0m | \u001b[36m__main__\u001b[0m:\u001b[36m<module>\u001b[0m:\u001b[36m33\u001b[0m - \u001b[32m\u001b[1mhyperparameter_importance saved to tmpC_topelements_lgbm_mol2vec_embeddings_pretrained_model.hyperparameter_importance.csv\u001b[0m\n",
      "\u001b[32m2024-10-17 17:01:05.263\u001b[0m | \u001b[1mINFO    \u001b[0m | \u001b[36m__main__\u001b[0m:\u001b[36msave_figure\u001b[0m:\u001b[36m47\u001b[0m - \u001b[1mSaved: /Users/aravindhnivas/Documents/test-codes/umda/optuna_figures/hyperparameter_importance.html\u001b[0m\n",
      "\u001b[32m2024-10-17 17:01:08.574\u001b[0m | \u001b[1mINFO    \u001b[0m | \u001b[36m__main__\u001b[0m:\u001b[36msave_figure\u001b[0m:\u001b[36m47\u001b[0m - \u001b[1mSaved: /Users/aravindhnivas/Documents/test-codes/umda/optuna_figures/hyperparameter_importance.png\u001b[0m\n",
      "\u001b[32m2024-10-17 17:01:08.592\u001b[0m | \u001b[1mINFO    \u001b[0m | \u001b[36m__main__\u001b[0m:\u001b[36msave_figure\u001b[0m:\u001b[36m47\u001b[0m - \u001b[1mSaved: /Users/aravindhnivas/Documents/test-codes/umda/optuna_figures/hyperparameter_importance.svg\u001b[0m\n",
      "\u001b[32m2024-10-17 17:01:08.648\u001b[0m | \u001b[1mINFO    \u001b[0m | \u001b[36m__main__\u001b[0m:\u001b[36msave_figure\u001b[0m:\u001b[36m47\u001b[0m - \u001b[1mSaved: /Users/aravindhnivas/Documents/test-codes/umda/optuna_figures/optimization_history.html\u001b[0m\n",
      "\u001b[32m2024-10-17 17:01:08.682\u001b[0m | \u001b[1mINFO    \u001b[0m | \u001b[36m__main__\u001b[0m:\u001b[36msave_figure\u001b[0m:\u001b[36m47\u001b[0m - \u001b[1mSaved: /Users/aravindhnivas/Documents/test-codes/umda/optuna_figures/optimization_history.png\u001b[0m\n",
      "\u001b[32m2024-10-17 17:01:08.705\u001b[0m | \u001b[1mINFO    \u001b[0m | \u001b[36m__main__\u001b[0m:\u001b[36msave_figure\u001b[0m:\u001b[36m47\u001b[0m - \u001b[1mSaved: /Users/aravindhnivas/Documents/test-codes/umda/optuna_figures/optimization_history.svg\u001b[0m\n",
      "\u001b[32m2024-10-17 17:01:08.746\u001b[0m | \u001b[1mINFO    \u001b[0m | \u001b[36m__main__\u001b[0m:\u001b[36msave_figure\u001b[0m:\u001b[36m47\u001b[0m - \u001b[1mSaved: /Users/aravindhnivas/Documents/test-codes/umda/optuna_figures/parallel_coordinate.html\u001b[0m\n",
      "\u001b[32m2024-10-17 17:01:10.478\u001b[0m | \u001b[1mINFO    \u001b[0m | \u001b[36m__main__\u001b[0m:\u001b[36msave_figure\u001b[0m:\u001b[36m47\u001b[0m - \u001b[1mSaved: /Users/aravindhnivas/Documents/test-codes/umda/optuna_figures/parallel_coordinate.png\u001b[0m\n",
      "\u001b[32m2024-10-17 17:01:12.008\u001b[0m | \u001b[1mINFO    \u001b[0m | \u001b[36m__main__\u001b[0m:\u001b[36msave_figure\u001b[0m:\u001b[36m47\u001b[0m - \u001b[1mSaved: /Users/aravindhnivas/Documents/test-codes/umda/optuna_figures/parallel_coordinate.svg\u001b[0m\n",
      "\u001b[32m2024-10-17 17:01:12.100\u001b[0m | \u001b[1mINFO    \u001b[0m | \u001b[36m__main__\u001b[0m:\u001b[36msave_figure\u001b[0m:\u001b[36m47\u001b[0m - \u001b[1mSaved: /Users/aravindhnivas/Documents/test-codes/umda/optuna_figures/slice_plot.html\u001b[0m\n",
      "\u001b[32m2024-10-17 17:01:12.179\u001b[0m | \u001b[1mINFO    \u001b[0m | \u001b[36m__main__\u001b[0m:\u001b[36msave_figure\u001b[0m:\u001b[36m47\u001b[0m - \u001b[1mSaved: /Users/aravindhnivas/Documents/test-codes/umda/optuna_figures/slice_plot.png\u001b[0m\n",
      "\u001b[32m2024-10-17 17:01:12.219\u001b[0m | \u001b[1mINFO    \u001b[0m | \u001b[36m__main__\u001b[0m:\u001b[36msave_figure\u001b[0m:\u001b[36m47\u001b[0m - \u001b[1mSaved: /Users/aravindhnivas/Documents/test-codes/umda/optuna_figures/slice_plot.svg\u001b[0m\n",
      "\u001b[32m2024-10-17 17:01:12.279\u001b[0m | \u001b[1mINFO    \u001b[0m | \u001b[36m__main__\u001b[0m:\u001b[36msave_figure\u001b[0m:\u001b[36m47\u001b[0m - \u001b[1mSaved: /Users/aravindhnivas/Documents/test-codes/umda/optuna_figures/intermediate_values.html\u001b[0m\n",
      "\u001b[32m2024-10-17 17:01:12.433\u001b[0m | \u001b[1mINFO    \u001b[0m | \u001b[36m__main__\u001b[0m:\u001b[36msave_figure\u001b[0m:\u001b[36m47\u001b[0m - \u001b[1mSaved: /Users/aravindhnivas/Documents/test-codes/umda/optuna_figures/intermediate_values.png\u001b[0m\n",
      "\u001b[32m2024-10-17 17:01:12.566\u001b[0m | \u001b[1mINFO    \u001b[0m | \u001b[36m__main__\u001b[0m:\u001b[36msave_figure\u001b[0m:\u001b[36m47\u001b[0m - \u001b[1mSaved: /Users/aravindhnivas/Documents/test-codes/umda/optuna_figures/intermediate_values.svg\u001b[0m\n",
      "\u001b[32m2024-10-17 17:01:12.579\u001b[0m | \u001b[1mINFO    \u001b[0m | \u001b[36m__main__\u001b[0m:\u001b[36msave_figure\u001b[0m:\u001b[36m47\u001b[0m - \u001b[1mSaved: /Users/aravindhnivas/Documents/test-codes/umda/optuna_figures/empirical_distribution.html\u001b[0m\n",
      "\u001b[32m2024-10-17 17:01:12.597\u001b[0m | \u001b[1mINFO    \u001b[0m | \u001b[36m__main__\u001b[0m:\u001b[36msave_figure\u001b[0m:\u001b[36m47\u001b[0m - \u001b[1mSaved: /Users/aravindhnivas/Documents/test-codes/umda/optuna_figures/empirical_distribution.png\u001b[0m\n",
      "\u001b[32m2024-10-17 17:01:12.611\u001b[0m | \u001b[1mINFO    \u001b[0m | \u001b[36m__main__\u001b[0m:\u001b[36msave_figure\u001b[0m:\u001b[36m47\u001b[0m - \u001b[1mSaved: /Users/aravindhnivas/Documents/test-codes/umda/optuna_figures/empirical_distribution.svg\u001b[0m\n",
      "\u001b[32m2024-10-17 17:01:12.774\u001b[0m | \u001b[1mINFO    \u001b[0m | \u001b[36m__main__\u001b[0m:\u001b[36msave_figure\u001b[0m:\u001b[36m47\u001b[0m - \u001b[1mSaved: /Users/aravindhnivas/Documents/test-codes/umda/optuna_figures/contour_plot.html\u001b[0m\n",
      "\u001b[32m2024-10-17 17:01:13.587\u001b[0m | \u001b[1mINFO    \u001b[0m | \u001b[36m__main__\u001b[0m:\u001b[36msave_figure\u001b[0m:\u001b[36m47\u001b[0m - \u001b[1mSaved: /Users/aravindhnivas/Documents/test-codes/umda/optuna_figures/contour_plot.png\u001b[0m\n",
      "\u001b[32m2024-10-17 17:01:14.257\u001b[0m | \u001b[1mINFO    \u001b[0m | \u001b[36m__main__\u001b[0m:\u001b[36msave_figure\u001b[0m:\u001b[36m47\u001b[0m - \u001b[1mSaved: /Users/aravindhnivas/Documents/test-codes/umda/optuna_figures/contour_plot.svg\u001b[0m\n",
      "\u001b[32m2024-10-17 17:01:14.257\u001b[0m | \u001b[32m\u001b[1mSUCCESS \u001b[0m | \u001b[36m__main__\u001b[0m:\u001b[36m<module>\u001b[0m:\u001b[36m81\u001b[0m - \u001b[32m\u001b[1mAll figures have been saved in the 'optuna_figures' directory.\u001b[0m\n"
     ]
    }
   ],
   "source": [
    "importances_fanova = get_param_importances(study)  # default method is \"fanova\"\n",
    "importances_mdi = get_param_importances(\n",
    "    study, evaluator=optuna.importance.MeanDecreaseImpurityImportanceEvaluator()\n",
    ")\n",
    "\n",
    "logger.info(\"Importances from get_param_importances (fanova):\")\n",
    "for param, importance in importances_fanova.items():\n",
    "    logger.info(f\"{param}: {importance}\")\n",
    "\n",
    "logger.info(\"\\nImportances from get_param_importances (MDI):\")\n",
    "for param, importance in importances_mdi.items():\n",
    "    logger.info(f\"{param}: {importance}\")\n",
    "\n",
    "# Save both importance methods to a CSV file\n",
    "df_importance = pd.DataFrame(\n",
    "    {\n",
    "        \"Parameter\": importances_fanova.keys(),\n",
    "        \"Importance (fanova)\": importances_fanova.values(),\n",
    "        \"Importance (MDI)\": [\n",
    "            importances_mdi.get(param, 0) for param in importances_fanova.keys()\n",
    "        ],\n",
    "    }\n",
    ")\n",
    "df_importance = df_importance.sort_values(\"Importance (fanova)\", ascending=False)\n",
    "\n",
    "pre_trained_loc = pt('/Users/aravindhnivas/Documents/test-codes/umda')\n",
    "grid_search_name = 'tmpC_topelements_lgbm_mol2vec_embeddings_pretrained_model'\n",
    "\n",
    "# Save the hyperparameter importance to a CSV file\n",
    "savefile = pre_trained_loc / f\"{grid_search_name}.hyperparameter_importance.csv\"\n",
    "logger.info(f\"Saving importance to {savefile.name}\")\n",
    "df_importance.to_csv(savefile, index=False)\n",
    "logger.success(f\"hyperparameter_importance saved to {savefile.name}\")\n",
    "\n",
    "# save all optuna figures to a folder\n",
    "optuna_figures_folder = pre_trained_loc / \"optuna_figures\"\n",
    "if not optuna_figures_folder.exists():\n",
    "    optuna_figures_folder.mkdir(parents=True)\n",
    "\n",
    "def save_figure(fig, filename, formats=[\"html\", \"png\", \"svg\"]):\n",
    "    for fmt in formats:\n",
    "        full_filename = optuna_figures_folder / f\"{filename}.{fmt}\"\n",
    "        if fmt == \"html\":\n",
    "            pio.write_html(fig, file=full_filename)\n",
    "        else:\n",
    "            pio.write_image(fig, file=full_filename)\n",
    "        logger.info(f\"Saved: {full_filename}\")\n",
    "\n",
    "# 1. Hyperparameter Importances\n",
    "fig = plot_param_importances(study)\n",
    "# pio.write_html(fig, file=savefile.with_suffix(\".hyperparameter_importance.html\"))\n",
    "save_figure(fig, \"hyperparameter_importance\")\n",
    "\n",
    "# 2. Optimization History\n",
    "fig_history = plot_optimization_history(study)\n",
    "save_figure(fig_history, \"optimization_history\")\n",
    "\n",
    "# 3. Parallel Coordinate\n",
    "fig_parallel = plot_parallel_coordinate(study)\n",
    "save_figure(fig_parallel, \"parallel_coordinate\")\n",
    "\n",
    "# 4. Slice Plot\n",
    "fig_slice = plot_slice(study)\n",
    "save_figure(fig_slice, \"slice_plot\")\n",
    "\n",
    "# 5. Intermediate Values\n",
    "fig_intermediate = plot_intermediate_values(study)\n",
    "save_figure(fig_intermediate, \"intermediate_values\")\n",
    "\n",
    "# 6. Empirical Distribution Function (EDF)\n",
    "fig_edf = plot_edf(study)\n",
    "save_figure(fig_edf, \"empirical_distribution\")\n",
    "\n",
    "# 7. Contour Plot\n",
    "try:\n",
    "    fig_contour = plot_contour(study)\n",
    "    save_figure(fig_contour, \"contour_plot\")\n",
    "except Exception as e:\n",
    "    logger.error(f\"Could not generate contour plot: {str(e)}\")\n",
    "\n",
    "logger.success(\"All figures have been saved in the 'optuna_figures' directory.\")"
   ]
  }
 ],
 "metadata": {
  "kernelspec": {
   "display_name": ".venv",
   "language": "python",
   "name": "python3"
  },
  "language_info": {
   "codemirror_mode": {
    "name": "ipython",
    "version": 3
   },
   "file_extension": ".py",
   "mimetype": "text/x-python",
   "name": "python",
   "nbconvert_exporter": "python",
   "pygments_lexer": "ipython3",
   "version": "3.12.5"
  }
 },
 "nbformat": 4,
 "nbformat_minor": 2
}
